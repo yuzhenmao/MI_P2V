{
 "cells": [
  {
   "cell_type": "code",
   "execution_count": 1,
   "metadata": {},
   "outputs": [],
   "source": [
    "import utils.binvox_rw\n",
    "import numpy as np\n",
    "import csv\n",
    "import pandas as pd\n",
    "import matplotlib.pyplot as plt\n",
    "\n",
    "from mpl_toolkits.mplot3d import Axes3D\n",
    "\n",
    "import cv2\n",
    "import pytorch3d\n",
    "from pytorch3d.renderer.cameras import look_at_view_transform"
   ]
  },
  {
   "cell_type": "code",
   "execution_count": 170,
   "metadata": {},
   "outputs": [
    {
     "data": {
      "text/plain": [
       "(-1.6, 33.6, -1.6, 33.6)"
      ]
     },
     "execution_count": 170,
     "metadata": {},
     "output_type": "execute_result"
    },
    {
     "data": {
      "image/png": "[encoded data removed]",
      "text/plain": [
       "<Figure size 432x288 with 1 Axes>"
      ]
     },
     "metadata": {
      "needs_background": "light"
     },
     "output_type": "display_data"
    }
   ],
   "source": [
    "import os\n",
    "volume_path = './ShapeNet/ShapeNetVox32/02691156/879ebdd198cf4aa58f6810e1a2b6aa04/model.binvox'\n",
    "\n",
    "with open(volume_path, 'rb') as f:\n",
    "    volume = utils.binvox_rw.read_as_3d_array(f)\n",
    "    volume = volume.data.astype(np.float32)\n",
    "    volume = volume.transpose(2,1,0)\n",
    "\n",
    "fig = plt.figure()\n",
    "ax = fig.gca(projection=Axes3D.name)\n",
    "ax.voxels(volume, facecolors='blue', edgecolor=\"k\", shade=False)\n",
    "ax.view_init(elev=0, azim=0)\n",
    "plt.axis('off')"
   ]
  },
  {
   "cell_type": "code",
   "execution_count": 243,
   "metadata": {},
   "outputs": [
    {
     "data": {
      "image/png": "[encoded data removed]",
      "text/plain": [
       "<Figure size 432x288 with 1 Axes>"
      ]
     },
     "metadata": {
      "needs_background": "light"
     },
     "output_type": "display_data"
    }
   ],
   "source": [
    "R, T = look_at_view_transform(dist=0.820653964851, elev=90-26.6454026787, azim=18.3168101286)\n",
    "R, T = R.numpy(), T.numpy()\n",
    "R, T = np.asmatrix(R),np.asmatrix(T)\n",
    "M = np.zeros([4,4])\n",
    "M[0:3, 0:3] = R\n",
    "M[0:3,3] = T\n",
    "x,y,z = np.nonzero(volume)\n",
    "voxles = np.ones([len(x),4])\n",
    "voxles[:,0] = x-16\n",
    "voxles[:,1] = y-16\n",
    "voxles[:,2] = z-16\n",
    "after = np.matmul(voxles,M)\n",
    "after = np.matrix.round(after[:,0:3])\n",
    "after = after.astype(np.int32)\n",
    "after = np.transpose(after)\n",
    "after = np.clip(after, -16, 15)\n",
    "mask = np.zeros(volume.shape)\n",
    "mask[after[2]+16,after[0]+16,after[1]+16] = 1\n",
    "# plt.axis('off')\n",
    "# mask[20, 0, 0]=1\n",
    "fig = plt.figure()\n",
    "ax = fig.gca(projection=Axes3D.name)\n",
    "ax.voxels(mask, facecolors='blue', edgecolor=\"k\", shade=False)\n",
    "ax.set_xlabel('X')\n",
    "ax.set_ylabel('Y')\n",
    "ax.set_zlabel('Z')\n",
    "ax.view_init(elev=0, azim=0)\n",
    "\n",
    "# x bigger, closer"
   ]
  },
  {
   "cell_type": "code",
   "execution_count": 244,
   "metadata": {},
   "outputs": [],
   "source": [
    "face = []\n",
    "for i in range(32):\n",
    "    for j in range(32):\n",
    "        if np.max(mask[:,i,j]) == 1:\n",
    "            k = np.where(mask[:,i,j]==1)[0][0]\n",
    "            face.append([i-16,j-16,k-16])\n",
    "            \n",
    "index = []            \n",
    "for i in range(len(after[0])):\n",
    "    if list(after[:,i]) in face:\n",
    "        index.append(i)\n",
    "\n",
    "weight = np.ones([32,32,32])*0.5\n",
    "voxles = (voxles+16).astype(np.int32)\n",
    "for i in index:\n",
    "    z,y,x,one= voxles[i]\n",
    "    weight[x,y,z] = 1"
   ]
  },
  {
   "cell_type": "code",
   "execution_count": 248,
   "metadata": {},
   "outputs": [
    {
     "data": {
      "text/plain": [
       "570"
      ]
     },
     "execution_count": 248,
     "metadata": {},
     "output_type": "execute_result"
    }
   ],
   "source": [
    "len(after[0])"
   ]
  },
  {
   "cell_type": "code",
   "execution_count": 245,
   "metadata": {},
   "outputs": [
    {
     "data": {
      "text/plain": [
       "331"
      ]
     },
     "execution_count": 245,
     "metadata": {},
     "output_type": "execute_result"
    }
   ],
   "source": [
    "len(index)"
   ]
  },
  {
   "cell_type": "code",
   "execution_count": 246,
   "metadata": {},
   "outputs": [
    {
     "data": {
      "text/plain": [
       "295"
      ]
     },
     "execution_count": 246,
     "metadata": {},
     "output_type": "execute_result"
    }
   ],
   "source": [
    "len(face)"
   ]
  },
  {
   "cell_type": "code",
   "execution_count": 162,
   "metadata": {},
   "outputs": [],
   "source": [
    "x,y,z = np.nonzero(mask)\n",
    "voxles = np.ones([len(x),3])\n",
    "voxles[:,0] = x\n",
    "voxles[:,1] = y\n",
    "voxles[:,2] = z\n",
    "df = pd.DataFrame(voxles, columns=[\"x\", \"y\", \"z\"])"
   ]
  },
  {
   "cell_type": "code",
   "execution_count": 163,
   "metadata": {},
   "outputs": [],
   "source": [
    "group = df.groupby(['y','z']).max()"
   ]
  },
  {
   "cell_type": "code",
   "execution_count": 164,
   "metadata": {},
   "outputs": [],
   "source": [
    "group.reset_index(inplace=True)"
   ]
  },
  {
   "cell_type": "code",
   "execution_count": 204,
   "metadata": {},
   "outputs": [],
   "source": [
    "group=index"
   ]
  },
  {
   "cell_type": "code",
   "execution_count": 205,
   "metadata": {},
   "outputs": [],
   "source": [
    "face = np.matrix(group)\n",
    "face = face.astype(np.int32)\n",
    "face = np.transpose(face)"
   ]
  },
  {
   "cell_type": "code",
   "execution_count": 240,
   "metadata": {},
   "outputs": [
    {
     "data": {
      "image/png": "[encoded data removed]",
      "text/plain": [
       "<Figure size 432x288 with 1 Axes>"
      ]
     },
     "metadata": {
      "needs_background": "light"
     },
     "output_type": "display_data"
    }
   ],
   "source": [
    "# mask = np.zeros(volume.shape)\n",
    "# mask[face[2],face[0],face[1]] = 1\n",
    "fig = plt.figure()\n",
    "ax = fig.gca(projection=Axes3D.name)\n",
    "ax.voxels(weight, facecolors='blue', edgecolor=\"k\", shade=False)\n",
    "ax.set_xlabel('X')\n",
    "ax.set_ylabel('Y')\n",
    "ax.set_zlabel('Z')\n",
    "ax.view_init(elev=0, azim=0)"
   ]
  },
  {
   "cell_type": "code",
   "execution_count": 207,
   "metadata": {},
   "outputs": [
    {
     "data": {
      "text/plain": [
       "295"
      ]
     },
     "execution_count": 207,
     "metadata": {},
     "output_type": "execute_result"
    }
   ],
   "source": [
    "len(group)"
   ]
  },
  {
   "cell_type": "code",
   "execution_count": 160,
   "metadata": {},
   "outputs": [
    {
     "data": {
      "text/plain": [
       "570"
      ]
     },
     "execution_count": 160,
     "metadata": {},
     "output_type": "execute_result"
    }
   ],
   "source": [
    "after = np.matmul(voxles,M)\n",
    "len(after)"
   ]
  },
  {
   "cell_type": "code",
   "execution_count": null,
   "metadata": {},
   "outputs": [],
   "source": []
  }
 ],
 "metadata": {
  "kernelspec": {
   "display_name": "Python 3",
   "language": "python",
   "name": "python3"
  },
  "language_info": {
   "codemirror_mode": {
    "name": "ipython",
    "version": 3
   },
   "file_extension": ".py",
   "mimetype": "text/x-python",
   "name": "python",
   "nbconvert_exporter": "python",
   "pygments_lexer": "ipython3",
   "version": "3.8.3"
  }
 },
 "nbformat": 4,
 "nbformat_minor": 4
}
